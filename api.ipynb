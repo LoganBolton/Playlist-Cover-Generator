{
 "cells": [
  {
   "cell_type": "code",
   "execution_count": 1,
   "metadata": {},
   "outputs": [],
   "source": [
    "import requests\n",
    "import base64\n",
    "import json\n",
    "import os\n",
    "\n",
    "# Replace these with your actual Client ID and Client Secret\n",
    "CLIENT_ID = os.environ.get('SPOTIFY_CLIENT_ID')\n",
    "CLIENT_SECRET = os.environ.get('SPOTIFY_CLIENT_SECRET')"
   ]
  },
  {
   "cell_type": "code",
   "execution_count": 3,
   "metadata": {},
   "outputs": [],
   "source": [
    "client_creds = f\"{CLIENT_ID}:{CLIENT_SECRET}\"\n",
    "client_creds_b64 = base64.b64encode(client_creds.encode())\n",
    "\n",
    "# Token URL\n",
    "token_url = 'https://accounts.spotify.com/api/token'\n",
    "\n",
    "# Request Body Parameters\n",
    "token_data = {\n",
    "    'grant_type': 'client_credentials'\n",
    "}\n",
    "\n",
    "# Request Headers\n",
    "token_headers = {\n",
    "    'Authorization': f'Basic {client_creds_b64.decode()}'\n",
    "}"
   ]
  },
  {
   "cell_type": "code",
   "execution_count": 5,
   "metadata": {},
   "outputs": [
    {
     "name": "stdout",
     "output_type": "stream",
     "text": [
      "Authentication successful!\n",
      "Successfully retrieved data for the track: Cut To The Feeling by Carly Rae Jepsen\n"
     ]
    }
   ],
   "source": [
    "r = requests.post(token_url, data=token_data, headers=token_headers)\n",
    "\n",
    "if r.status_code == 200:\n",
    "    print(\"Authentication successful!\")\n",
    "    token = r.json()['access_token']\n",
    "    \n",
    "    # Now let's try to get info about a track\n",
    "    track_id = '11dFghVXANMlKmJXsNCbNl'  # This is the Spotify ID for \"Cut To The Feeling\" by Carly Rae Jepsen\n",
    "    track_url = f'https://api.spotify.com/v1/tracks/{track_id}'\n",
    "    \n",
    "    track_headers = {\n",
    "        'Authorization': f'Bearer {token}'\n",
    "    }\n",
    "    \n",
    "    track_response = requests.get(track_url, headers=track_headers)\n",
    "    \n",
    "    if track_response.status_code == 200:\n",
    "        track_data = track_response.json()\n",
    "        print(f\"Successfully retrieved data for the track: {track_data['name']} by {track_data['artists'][0]['name']}\")\n",
    "    else:\n",
    "        print(f\"Failed to retrieve track data. Status code: {track_response.status_code}\")\n",
    "        print(f\"Error message: {track_response.text}\")\n",
    "else:\n",
    "    print(f\"Authentication failed. Status code: {r.status_code}\")\n",
    "    print(f\"Error message: {r.text}\")"
   ]
  }
 ],
 "metadata": {
  "kernelspec": {
   "display_name": "Python 3",
   "language": "python",
   "name": "python3"
  },
  "language_info": {
   "codemirror_mode": {
    "name": "ipython",
    "version": 3
   },
   "file_extension": ".py",
   "mimetype": "text/x-python",
   "name": "python",
   "nbconvert_exporter": "python",
   "pygments_lexer": "ipython3",
   "version": "3.12.2"
  }
 },
 "nbformat": 4,
 "nbformat_minor": 2
}
